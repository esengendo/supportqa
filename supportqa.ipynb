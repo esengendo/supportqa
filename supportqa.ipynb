{
  "nbformat": 4,
  "nbformat_minor": 0,
  "metadata": {
    "colab": {
      "provenance": []
    },
    "kernelspec": {
      "name": "python3",
      "display_name": "Python 3"
    },
    "language_info": {
      "name": "python"
    }
  },
  "cells": [
    {
      "cell_type": "code",
      "source": [
        "from pathlib import Path"
      ],
      "metadata": {
        "id": "ZCPYxrQ-2i2G"
      },
      "execution_count": 2,
      "outputs": []
    },
    {
      "cell_type": "code",
      "execution_count": 3,
      "metadata": {
        "id": "_nnqb8aH1Jw8"
      },
      "outputs": [],
      "source": [
        "questions_dir = Path(\"clientsqa\")\n",
        "questions_dir.mkdir(exist_ok=True, parents=True)\n",
        "\n",
        "def create_file(question, answer, file_path):\n",
        "  text = f\"\"\"\n",
        "  Q: {question}\n",
        "  A: {answer}\n",
        "  \"\"\".strip()\n",
        "  with Path(questions_dir / file_path).open(\"w\") as text_file:\n",
        "    text_file.write(text)"
      ]
    },
    {
      "cell_type": "code",
      "source": [
        "create_file(\n",
        "    question=\"What are the benefits of Windows 11 over Windows 10?\",\n",
        "    answer=\"\"\"Windows 11 offers new productivity features and functionality designed to meet the challenges of the hybrid world. It has a completely refreshed look and feel that helps you get more done with less stress. Learn more about what’s new at Windows.com/Windows-11.\"\"\".strip(),\n",
        "    file_path=\"question_1.txt\",\n",
        "\n",
        "\n",
        "\n",
        ")"
      ],
      "metadata": {
        "id": "3japeUcz2hvi"
      },
      "execution_count": 4,
      "outputs": []
    },
    {
      "cell_type": "code",
      "source": [
        "create_file(\n",
        "    question=\"Can I upgrade for free?\",\n",
        "    answer=\"\"\"Upgrades to Windows 11 from Windows 10 will be free. Due to the size of the download, however, ISP fees may apply for downloads that occur over metered connections.\"\"\".strip(),\n",
        "    file_path=\"question_2.txt\",\n",
        "\n",
        "\n",
        ")"
      ],
      "metadata": {
        "id": "q_CGJklR475C"
      },
      "execution_count": 5,
      "outputs": []
    }
  ]
}